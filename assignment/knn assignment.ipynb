{
 "cells": [
  {
   "cell_type": "markdown",
   "metadata": {},
   "source": [
    "# k Nearest Neighbor Assignment"
   ]
  },
  {
   "cell_type": "markdown",
   "metadata": {},
   "source": [
    "### Q0.\n",
    "1. What is the difference between regression and classification?\n",
    "\n",
    "Regression is the prediction of a numeric outcome, whereas classification is the prediction of a categorical outcome. "
   ]
  },
  {
   "cell_type": "markdown",
   "metadata": {},
   "source": [
    "2. What is a confusion table? What does it help us understand about a model's performance?\n",
    "\n",
    "A confusion table is a table that shows the cross-tablation of the predicted vs true values. It helps us measure the performance of a classifier by looking for patterns in the successes and failures. "
   ]
  },
  {
   "cell_type": "markdown",
   "metadata": {},
   "source": [
    "3. What does the SSE quantify about a particular model?\n",
    "\n",
    "The SSE quantifies how far the predicted values are from the true values. We calculate this by finding the squared norm of the distance between y and y hat."
   ]
  },
  {
   "cell_type": "markdown",
   "metadata": {},
   "source": [
    "4. What are overfitting and underfitting?\n",
    "\n",
    "Overfitting occurs when the model is too complex to reliably explain the phenomenon you are interested in. This can happen if k is very small. Underfitting occurs when the model is too simple to reliably explain the phenomenon you are interested in. This can happen if k is very large. "
   ]
  },
  {
   "cell_type": "markdown",
   "metadata": {},
   "source": [
    "5. Why does splitting the data into training and testing sets, and choosing by evaluating accuracy or SSE on the test set, improve model performance?\n",
    "\n",
    "Splitting the sample means that we are using some of the data to train the model and the rest of the data to test the model to see if it's accurate. If you use only the test data to pick the hyperparameters, like the k value, you could be overfitting your model. Evaluating accuracy or SSE on the test set helps measure generalization."
   ]
  },
  {
   "cell_type": "markdown",
   "metadata": {},
   "source": [
    "6. With classification, we can report a class label as a prediction or a probability distribution over class labels. Please explain the strengths and weaknesses of each approach.\n",
    "\n",
    "Reporting class labels as a prediction is good if you have imputations, because kMM is \"chunky\" and won't have significant global smoothing patterns that could interfere with another algorithm's learning. Because of this global smoothing, it makes it difficult t interpret the impact of individual variables on predictions. \n",
    "Reporting as a probability distribution over class labels can be good because it has \"smooth\" local smoothing, like with kernel density plots. One of its weaknesses are that it requires more computer computation."
   ]
  },
  {
   "cell_type": "markdown",
   "metadata": {},
   "source": [
    "### Q6"
   ]
  },
  {
   "cell_type": "markdown",
   "metadata": {},
   "source": [
    "1. Load the airbnb_hw.csv data with Pandas. We're only going to use Review Scores Rating, Price, and Beds, so use .loc to reduce the dataframe to those variables."
   ]
  },
  {
   "cell_type": "code",
   "execution_count": 1,
   "metadata": {},
   "outputs": [],
   "source": [
    "import pandas as pd \n",
    "import numpy as np\n",
    "from sklearn.model_selection import train_test_split\n",
    "from sklearn.neighbors import KNeighborsRegressor \n",
    "import seaborn as sns"
   ]
  },
  {
   "cell_type": "code",
   "execution_count": 2,
   "metadata": {},
   "outputs": [
    {
     "data": {
      "text/html": [
       "<div>\n",
       "<style scoped>\n",
       "    .dataframe tbody tr th:only-of-type {\n",
       "        vertical-align: middle;\n",
       "    }\n",
       "\n",
       "    .dataframe tbody tr th {\n",
       "        vertical-align: top;\n",
       "    }\n",
       "\n",
       "    .dataframe thead th {\n",
       "        text-align: right;\n",
       "    }\n",
       "</style>\n",
       "<table border=\"1\" class=\"dataframe\">\n",
       "  <thead>\n",
       "    <tr style=\"text-align: right;\">\n",
       "      <th></th>\n",
       "      <th>Review Scores Rating</th>\n",
       "      <th>Price</th>\n",
       "      <th>Beds</th>\n",
       "    </tr>\n",
       "  </thead>\n",
       "  <tbody>\n",
       "    <tr>\n",
       "      <th>0</th>\n",
       "      <td>NaN</td>\n",
       "      <td>145</td>\n",
       "      <td>1.0</td>\n",
       "    </tr>\n",
       "    <tr>\n",
       "      <th>1</th>\n",
       "      <td>NaN</td>\n",
       "      <td>37</td>\n",
       "      <td>1.0</td>\n",
       "    </tr>\n",
       "    <tr>\n",
       "      <th>2</th>\n",
       "      <td>NaN</td>\n",
       "      <td>28</td>\n",
       "      <td>1.0</td>\n",
       "    </tr>\n",
       "    <tr>\n",
       "      <th>3</th>\n",
       "      <td>NaN</td>\n",
       "      <td>199</td>\n",
       "      <td>3.0</td>\n",
       "    </tr>\n",
       "    <tr>\n",
       "      <th>4</th>\n",
       "      <td>96.0</td>\n",
       "      <td>549</td>\n",
       "      <td>3.0</td>\n",
       "    </tr>\n",
       "    <tr>\n",
       "      <th>5</th>\n",
       "      <td>100.0</td>\n",
       "      <td>149</td>\n",
       "      <td>1.0</td>\n",
       "    </tr>\n",
       "    <tr>\n",
       "      <th>6</th>\n",
       "      <td>100.0</td>\n",
       "      <td>250</td>\n",
       "      <td>1.0</td>\n",
       "    </tr>\n",
       "    <tr>\n",
       "      <th>7</th>\n",
       "      <td>94.0</td>\n",
       "      <td>90</td>\n",
       "      <td>1.0</td>\n",
       "    </tr>\n",
       "    <tr>\n",
       "      <th>8</th>\n",
       "      <td>90.0</td>\n",
       "      <td>270</td>\n",
       "      <td>2.0</td>\n",
       "    </tr>\n",
       "    <tr>\n",
       "      <th>9</th>\n",
       "      <td>96.0</td>\n",
       "      <td>290</td>\n",
       "      <td>2.0</td>\n",
       "    </tr>\n",
       "  </tbody>\n",
       "</table>\n",
       "</div>"
      ],
      "text/plain": [
       "   Review Scores Rating Price  Beds\n",
       "0                   NaN   145   1.0\n",
       "1                   NaN    37   1.0\n",
       "2                   NaN    28   1.0\n",
       "3                   NaN   199   3.0\n",
       "4                  96.0   549   3.0\n",
       "5                 100.0   149   1.0\n",
       "6                 100.0   250   1.0\n",
       "7                  94.0    90   1.0\n",
       "8                  90.0   270   2.0\n",
       "9                  96.0   290   2.0"
      ]
     },
     "execution_count": 2,
     "metadata": {},
     "output_type": "execute_result"
    }
   ],
   "source": [
    "# loading airbnb_hw.csv data \n",
    "df = pd.read_csv('./hw data/airbnb_hw.csv')\n",
    "\n",
    "# using .loc to reduce to only 3 variables\n",
    "df = df.loc[:, ['Review Scores Rating', 'Price', 'Beds']]\n",
    "\n",
    "# print first 10 rows\n",
    "df.head(10)"
   ]
  },
  {
   "cell_type": "markdown",
   "metadata": {},
   "source": [
    "2. Set use .isnull() to select the subset of the dataframe with missing review values. Set those aside in a different dataframe. We'll make predictions about them later."
   ]
  },
  {
   "cell_type": "code",
   "execution_count": 3,
   "metadata": {},
   "outputs": [
    {
     "name": "stdout",
     "output_type": "stream",
     "text": [
      "df_missing:     Review Scores Rating Price  Beds\n",
      "0                    NaN   145   1.0\n",
      "1                    NaN    37   1.0\n",
      "2                    NaN    28   1.0\n",
      "3                    NaN   199   3.0\n",
      "13                   NaN    68   1.0\n",
      "19                   NaN   700   3.0\n",
      "21                   NaN   175   1.0\n",
      "22                   NaN    90   1.0\n",
      "29                   NaN    99   4.0\n",
      "30                   NaN    99   1.0\n",
      "df:      Review Scores Rating Price  Beds\n",
      "4                   96.0   549   3.0\n",
      "5                  100.0   149   1.0\n",
      "6                  100.0   250   1.0\n",
      "7                   94.0    90   1.0\n",
      "8                   90.0   270   2.0\n",
      "9                   96.0   290   2.0\n",
      "10                  98.0   170   2.0\n",
      "11                  93.0    59   2.0\n",
      "12                  91.0    49   2.0\n",
      "14                  97.0   285   1.0\n"
     ]
    }
   ],
   "source": [
    "# pull the rows that are null for 'Review Scores Rating' and create a separate dataframe\n",
    "df_missing = df[df['Review Scores Rating'].isnull()]\n",
    "\n",
    "# only keep rows where 'Review Scores Rating' is not null\n",
    "df = df[df['Review Scores Rating'].notnull()]\n",
    "\n",
    "# print first rows of df_missing \n",
    "print(\"df_missing:\" , df_missing.head(10))\n",
    "print(\"df: \" , df.head(10))"
   ]
  },
  {
   "cell_type": "markdown",
   "metadata": {},
   "source": [
    "3. Use df = df.dropna(axis = 0, how = 'any') to eliminate any observations with missing values/NA's from the dataframe."
   ]
  },
  {
   "cell_type": "code",
   "execution_count": 4,
   "metadata": {},
   "outputs": [],
   "source": [
    "# eliminate any rows with missing values\n",
    "df = df.dropna(axis=0, how='any')"
   ]
  },
  {
   "cell_type": "markdown",
   "metadata": {},
   "source": [
    "4. For the complete cases, create a k-NN model that uses the variables Price and Beds to predict Review Scores Rating. How do you choose ? (Hint: Train/test split, iterate over reasonable values of and find a value that minimizes SSE on the test split using predictions from the training set.)\n",
    "\n",
    "I chose k = 48 as the best model because that is the value for k which minimizes the SSE on the test set. "
   ]
  },
  {
   "cell_type": "code",
   "execution_count": 5,
   "metadata": {},
   "outputs": [],
   "source": [
    "# make sure that all variables are only floats\n",
    "df['Price'] = df['Price'].replace(',', '', regex=True).astype(float)\n",
    "df['Beds'] = df['Beds'].replace(',', '', regex=True).astype(float)\n",
    "df['Review Scores Rating'] = df['Review Scores Rating'].replace(',', '', regex=True).astype(float)"
   ]
  },
  {
   "cell_type": "code",
   "execution_count": 6,
   "metadata": {},
   "outputs": [],
   "source": [
    "# target variable vector\n",
    "y = df['Review Scores Rating'] \n",
    "# predictor matrix\n",
    "X = df.loc[:, ['Price', 'Beds']]\n",
    "\n",
    "# Split the sample:\n",
    "X_train, X_test, y_train, y_test = train_test_split(X,y, test_size=0.2, random_state=65)"
   ]
  },
  {
   "cell_type": "code",
   "execution_count": 7,
   "metadata": {},
   "outputs": [
    {
     "name": "stdout",
     "output_type": "stream",
     "text": [
      "[48]\n"
     ]
    }
   ],
   "source": [
    "# number of k's to try\n",
    "k_bar = 50 \n",
    "# to store the SSE \n",
    "SSE = []  \n",
    "# save the training error\n",
    "SSE_on_train = [] \n",
    "\n",
    "\n",
    "for k in range(k_bar):\n",
    "    # create a sk model for k\n",
    "    model = KNeighborsRegressor(n_neighbors=k+1) \n",
    "    # train the model training data\n",
    "    fitted_model = model.fit(X_train,y_train) \n",
    "    # predict values for test set\n",
    "    y_hat = fitted_model.predict(X_test) \n",
    "    # save the computed SSE for test set\n",
    "    SSE.append(np.sum( (y_test-y_hat)**2 )) \n",
    "    # predict values for training set\n",
    "    y_hat = fitted_model.predict(X_train) \n",
    "    # save the computed SSE\n",
    "    SSE_on_train.append( np.sum( (y_train-y_hat)**2 ) )\n",
    "\n",
    "# find lowest SSE\n",
    "SSE_min = np.min(SSE) \n",
    "# find the indices of SSE that equal the min\n",
    "min_index = np.where(SSE==SSE_min) \n",
    "# find optimal value of k\n",
    "k_star = min_index[0]+1 \n",
    "# print k star\n",
    "print(k_star)"
   ]
  },
  {
   "cell_type": "markdown",
   "metadata": {},
   "source": [
    "5. Predict the missing ratings."
   ]
  },
  {
   "cell_type": "code",
   "execution_count": 8,
   "metadata": {},
   "outputs": [
    {
     "name": "stdout",
     "output_type": "stream",
     "text": [
      "       Review Scores Rating  Price  Beds\n",
      "0                 93.583333  145.0   1.0\n",
      "1                 88.479167   37.0   1.0\n",
      "2                 85.062500   28.0   1.0\n",
      "3                 89.437500  199.0   3.0\n",
      "13                89.833333   68.0   1.0\n",
      "...                     ...    ...   ...\n",
      "30473             90.041667  300.0   5.0\n",
      "30474             92.104167  125.0   2.0\n",
      "30475             91.562500   80.0   1.0\n",
      "30476             87.083333   35.0   1.0\n",
      "30477             91.562500   80.0   1.0\n",
      "\n",
      "[8323 rows x 3 columns]\n"
     ]
    }
   ],
   "source": [
    "# train k-NN on the training dataset\n",
    "k = 48\n",
    "knn_model = KNeighborsRegressor(n_neighbors=k)\n",
    "# use training data with known ratings\n",
    "knn_model.fit(X_train, y_train) \n",
    "\n",
    "# make sure that all variables are only floats\n",
    "df_missing['Price'] = df_missing['Price'].replace(',', '', regex=True).astype(float)\n",
    "df_missing['Beds'] = df_missing['Beds'].replace(',', '', regex=True).astype(float)\n",
    "\n",
    "# take only Price & Beds (relevant columns) for prediction\n",
    "X_missing = df_missing[['Price', 'Beds']].copy()\n",
    "\n",
    "# handle missing values in Price or Beds columns\n",
    "X_missing['Price'] = X_missing['Price'].fillna(X_train['Price'].median())\n",
    "X_missing['Beds'] = X_missing['Beds'].fillna(X_train['Beds'].median())\n",
    "\n",
    "\n",
    "# predict missing ratings using knn model\n",
    "predicted_ratings = knn_model.predict(X_missing)\n",
    "\n",
    "# fill in missing values with predictions\n",
    "df_missing['Review Scores Rating'] = predicted_ratings\n",
    "\n",
    "# print predicted missing ratings \n",
    "print(df_missing)"
   ]
  },
  {
   "cell_type": "markdown",
   "metadata": {},
   "source": [
    "6. Do a kernel density plot of the training ratings and the predicted missing ratings. Do they look similar or not? Explain why.\n",
    "\n",
    "They do not look similar. First, they have very different ranges for the x values. The KDE of Training Ratings graph has a domain of approximately 0-100, whereas the KDE of Predicted Missing Ratings has a domain of 82-98. The range of y-values is also different between the two graphs - with training ratings having y values between approximately 0-0.08 and the predicted missing ratings having y values between approximately 0-0.3. While both graphs do have a peak near the right end, they are at different x-values. Additionally, while they both also have two smaller peaks, those peaks are at different x values and also at different distances from each other per graph. "
   ]
  },
  {
   "cell_type": "code",
   "execution_count": 9,
   "metadata": {},
   "outputs": [
    {
     "data": {
      "text/plain": [
       "[Text(0.5, 1.0, 'KDE of Training Ratings')]"
      ]
     },
     "execution_count": 9,
     "metadata": {},
     "output_type": "execute_result"
    },
    {
     "data": {
      "image/png": "[encoded data removed]",
      "text/plain": [
       "<Figure size 640x480 with 1 Axes>"
      ]
     },
     "metadata": {},
     "output_type": "display_data"
    }
   ],
   "source": [
    "# kernel density plot for training ratings\n",
    "sns.kdeplot(data=df, x='Review Scores Rating').set(title='KDE of Training Ratings')"
   ]
  },
  {
   "cell_type": "code",
   "execution_count": 10,
   "metadata": {},
   "outputs": [
    {
     "data": {
      "text/plain": [
       "[Text(0.5, 1.0, 'KDE of Predicted Missing Ratings')]"
      ]
     },
     "execution_count": 10,
     "metadata": {},
     "output_type": "execute_result"
    },
    {
     "data": {
      "image/png": "[encoded data removed]",
      "text/plain": [
       "<Figure size 640x480 with 1 Axes>"
      ]
     },
     "metadata": {},
     "output_type": "display_data"
    }
   ],
   "source": [
    "# kernel density plot for predicted missing ratings\n",
    "sns.kdeplot(data=df_missing, x='Review Scores Rating').set(title='KDE of Predicted Missing Ratings')"
   ]
  }
 ],
 "metadata": {
  "kernelspec": {
   "display_name": "Python 3",
   "language": "python",
   "name": "python3"
  },
  "language_info": {
   "codemirror_mode": {
    "name": "ipython",
    "version": 3
   },
   "file_extension": ".py",
   "mimetype": "text/x-python",
   "name": "python",
   "nbconvert_exporter": "python",
   "pygments_lexer": "ipython3",
   "version": "3.12.5"
  }
 },
 "nbformat": 4,
 "nbformat_minor": 2
}
